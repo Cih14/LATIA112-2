{
  "nbformat": 4,
  "nbformat_minor": 0,
  "metadata": {
    "colab": {
      "provenance": []
    },
    "kernelspec": {
      "name": "python3",
      "display_name": "Python 3"
    },
    "language_info": {
      "name": "python"
    }
  },
  "cells": [
    {
      "cell_type": "code",
      "execution_count": 1,
      "metadata": {
        "colab": {
          "base_uri": "https://localhost:8080/"
        },
        "id": "LDkaX48BrOrK",
        "outputId": "6d51f31b-9bc3-4cd5-b189-48c2f03fa16f"
      },
      "outputs": [
        {
          "output_type": "stream",
          "name": "stdout",
          "text": [
            "Mounted at /content/gdrive/\n",
            "total 20384\n",
            "-rw------- 1 root root    92484 Feb 27 06:22 112_student.csv\n",
            "-rw------- 1 root root   112488 Mar 12 08:18 112_students_tf.csv\n",
            "drwx------ 2 root root     4096 Apr  2 06:17 Ch1-5\n",
            "-rw------- 1 root root 20659344 Apr  8 08:55 TaipeiSansTCBeta-Regular.ttf\n",
            "drwx------ 2 root root     4096 Mar 19 05:55 week05\n"
          ]
        }
      ],
      "source": [
        "# from xxxx import yyyy 從xxxx函式庫中匯入yyyy模組\n",
        "# import xxxx 匯入xxxx模組\n",
        "# drive.mount 綁定雲端磁碟\n",
        "# os.chdir 變更目錄\n",
        "# ls -l 列出目錄下的檔案\n",
        "\n",
        "from google.colab import drive\n",
        "drive.mount('/content/gdrive/', force_remount=True)\n",
        "\n",
        "import os\n",
        "os.chdir(\"/content/gdrive/My Drive/11202_latia/\") # 切換目錄\n",
        "!ls -l \"/content/gdrive/My Drive/11202_latia/\" # 列出目錄下的檔案\n",
        "#!ls -l \"自行填寫正確的路徑\""
      ]
    },
    {
      "cell_type": "code",
      "source": [
        "# import xxxx as yy 匯入xxxx當作yy\n",
        "# read_csv() 讀取csv檔案\n",
        "# head() 顯示從頭(0)開始的資料行\n",
        "# info() 顯示資料欄位基本資訊\n",
        "# isna().sum() 計算缺失數量\n",
        "# describe() 顯示資料的統計學資訊描述\n",
        "\n",
        "\n",
        "import pandas as pd\n",
        "\n",
        "csv_file = './112_student.csv'\n",
        "#csv_file =\"自行填寫正確的路徑\"\n",
        "\n",
        "#columns = [\n",
        "#    \"學年度\",\"學校代碼\",\"學校名稱\",\"日間∕進修別\",\"等級別\",\"總計\",\"男生計\",\n",
        "#    \"女生計\",\"一年級男\",\"一年級女\",\"二年級男\",\"二年級女\",\"三年級男\",\"三年級女\",\n",
        "#    \"四年級男\",\"四年級女\",\"五年級男\",\"五年級女\",\"六年級男\",\"六年級女\",\n",
        "#    \"七年級男\",\"七年級女\",\"延修生男\",\"延修生女\",\"縣市名稱\",\"體系別\"\n",
        "#]\n",
        "df = pd.read_csv(csv_file) # 讀取csv檔案\n",
        "print(df.head(), '\\n')\n",
        "\n",
        "#查看資料欄位資訊\n",
        "print('\\n', df.info(verbose=True, show_counts=True))\n",
        "\n",
        "print('\\n', df.isna().sum()) # 計算缺失數量並印出來\n",
        "\n",
        "#查看資料的統計學資訊描述\n",
        "print('\\n', df.describe(include='all'))"
      ],
      "metadata": {
        "colab": {
          "base_uri": "https://localhost:8080/"
        },
        "id": "nXIPB8BGrj5c",
        "outputId": "debacbc7-1bc1-463f-afdb-b5303b626b3f"
      },
      "execution_count": 2,
      "outputs": [
        {
          "output_type": "stream",
          "name": "stdout",
          "text": [
            "   學年度  學校代碼    學校名稱 日間∕進修別   等級別    總計   男生計   女生計  一年級男  一年級女  ...  五年級男  \\\n",
            "0  112     1  國立政治大學    D 日  D 博士   921   517   404    86    69  ...    63   \n",
            "1  112     1  國立政治大學    D 日  M 碩士  4231  1835  2396   598   809  ...     2   \n",
            "2  112     1  國立政治大學    N 職  M 碩士  1903   938   965   262   304  ...    77   \n",
            "3  112     1  國立政治大學    D 日  B 學士  9763  3928  5835   906  1349  ...     0   \n",
            "4  112     2  國立清華大學    D 日  D 博士  1636  1131   505   206    93  ...   140   \n",
            "\n",
            "   五年級女  六年級男  六年級女  七年級男  七年級女  延修生男  延修生女    縣市名稱   體系別  \n",
            "0    52    68    37    66    50     0     0  30 臺北市  1 一般  \n",
            "1     1     1     0     0     0     0     0  30 臺北市  1 一般  \n",
            "2    57     0     0     0     0     0     0  30 臺北市  1 一般  \n",
            "3     0     0     0     0     0   316   499  30 臺北市  1 一般  \n",
            "4    60   110    50   115    56     0     0  18 新竹市  1 一般  \n",
            "\n",
            "[5 rows x 26 columns] \n",
            "\n",
            "<class 'pandas.core.frame.DataFrame'>\n",
            "RangeIndex: 764 entries, 0 to 763\n",
            "Data columns (total 26 columns):\n",
            " #   Column  Non-Null Count  Dtype \n",
            "---  ------  --------------  ----- \n",
            " 0   學年度     764 non-null    int64 \n",
            " 1   學校代碼    764 non-null    int64 \n",
            " 2   學校名稱    764 non-null    object\n",
            " 3   日間∕進修別  764 non-null    object\n",
            " 4   等級別     764 non-null    object\n",
            " 5   總計      764 non-null    int64 \n",
            " 6   男生計     764 non-null    int64 \n",
            " 7   女生計     764 non-null    int64 \n",
            " 8   一年級男    764 non-null    int64 \n",
            " 9   一年級女    764 non-null    int64 \n",
            " 10  二年級男    764 non-null    int64 \n",
            " 11  二年級女    764 non-null    int64 \n",
            " 12  三年級男    764 non-null    int64 \n",
            " 13  三年級女    764 non-null    int64 \n",
            " 14  四年級男    764 non-null    int64 \n",
            " 15  四年級女    764 non-null    int64 \n",
            " 16  五年級男    764 non-null    int64 \n",
            " 17  五年級女    764 non-null    int64 \n",
            " 18  六年級男    764 non-null    int64 \n",
            " 19  六年級女    764 non-null    int64 \n",
            " 20  七年級男    764 non-null    int64 \n",
            " 21  七年級女    764 non-null    int64 \n",
            " 22  延修生男    764 non-null    int64 \n",
            " 23  延修生女    764 non-null    int64 \n",
            " 24  縣市名稱    764 non-null    object\n",
            " 25  體系別     764 non-null    object\n",
            "dtypes: int64(21), object(5)\n",
            "memory usage: 155.3+ KB\n",
            "\n",
            " None\n",
            "\n",
            " 學年度       0\n",
            "學校代碼      0\n",
            "學校名稱      0\n",
            "日間∕進修別    0\n",
            "等級別       0\n",
            "總計        0\n",
            "男生計       0\n",
            "女生計       0\n",
            "一年級男      0\n",
            "一年級女      0\n",
            "二年級男      0\n",
            "二年級女      0\n",
            "三年級男      0\n",
            "三年級女      0\n",
            "四年級男      0\n",
            "四年級女      0\n",
            "五年級男      0\n",
            "五年級女      0\n",
            "六年級男      0\n",
            "六年級女      0\n",
            "七年級男      0\n",
            "七年級女      0\n",
            "延修生男      0\n",
            "延修生女      0\n",
            "縣市名稱      0\n",
            "體系別       0\n",
            "dtype: int64\n",
            "\n",
            "           學年度         學校代碼    學校名稱 日間∕進修別   等級別            總計           男生計  \\\n",
            "count   764.0   764.000000     764    764   764    764.000000    764.000000   \n",
            "unique    NaN          NaN     145      4    10           NaN           NaN   \n",
            "top       NaN          NaN  弘光科技大學    D 日  M 碩士           NaN           NaN   \n",
            "freq      NaN          NaN      10    448   249           NaN           NaN   \n",
            "mean    112.0   756.200262     NaN    NaN   NaN   1433.022251    708.655759   \n",
            "std       0.0   504.152506     NaN    NaN   NaN   2633.932756   1385.170171   \n",
            "min     112.0     1.000000     NaN    NaN   NaN      1.000000      0.000000   \n",
            "25%     112.0    48.000000     NaN    NaN   NaN    103.750000     43.750000   \n",
            "50%     112.0  1029.000000     NaN    NaN   NaN    373.500000    180.000000   \n",
            "75%     112.0  1060.000000     NaN    NaN   NaN   1387.500000    590.500000   \n",
            "max     112.0  3002.000000     NaN    NaN   NaN  19466.000000  10885.000000   \n",
            "\n",
            "                 女生計         一年級男         一年級女  ...        五年級男        五年級女  \\\n",
            "count     764.000000   764.000000   764.000000  ...  764.000000  764.000000   \n",
            "unique           NaN          NaN          NaN  ...         NaN         NaN   \n",
            "top              NaN          NaN          NaN  ...         NaN         NaN   \n",
            "freq             NaN          NaN          NaN  ...         NaN         NaN   \n",
            "mean      724.366492   177.971204   173.545812  ...   11.871728   20.469895   \n",
            "std      1348.848241   349.047086   321.080379  ...   32.233288   81.117153   \n",
            "min         0.000000     0.000000     0.000000  ...    0.000000    0.000000   \n",
            "25%        50.000000     5.000000     4.000000  ...    0.000000    0.000000   \n",
            "50%       166.000000    41.000000    37.000000  ...    0.000000    0.000000   \n",
            "75%       718.500000   161.250000   188.250000  ...    6.000000    6.000000   \n",
            "max     10716.000000  2709.000000  2519.000000  ...  309.000000  897.000000   \n",
            "\n",
            "              六年級男        六年級女        七年級男        七年級女         延修生男  \\\n",
            "count   764.000000  764.000000  764.000000  764.000000   764.000000   \n",
            "unique         NaN         NaN         NaN         NaN          NaN   \n",
            "top            NaN         NaN         NaN         NaN          NaN   \n",
            "freq           NaN         NaN         NaN         NaN          NaN   \n",
            "mean      4.810209    3.615183    2.955497    1.742147    36.647906   \n",
            "std      19.818557   13.204157   17.768959    8.937397    98.370926   \n",
            "min       0.000000    0.000000    0.000000    0.000000     0.000000   \n",
            "25%       0.000000    0.000000    0.000000    0.000000     0.000000   \n",
            "50%       0.000000    0.000000    0.000000    0.000000     0.000000   \n",
            "75%       0.000000    0.000000    0.000000    0.000000    21.000000   \n",
            "max     179.000000  125.000000  312.000000  132.000000  1448.000000   \n",
            "\n",
            "               延修生女    縣市名稱   體系別  \n",
            "count    764.000000     764   764  \n",
            "unique          NaN      24     3  \n",
            "top             NaN  30 臺北市  2 技職  \n",
            "freq            NaN     120   468  \n",
            "mean      27.591623     NaN   NaN  \n",
            "std       74.731977     NaN   NaN  \n",
            "min        0.000000     NaN   NaN  \n",
            "25%        0.000000     NaN   NaN  \n",
            "50%        0.000000     NaN   NaN  \n",
            "75%       18.250000     NaN   NaN  \n",
            "max     1107.000000     NaN   NaN  \n",
            "\n",
            "[11 rows x 26 columns]\n"
          ]
        }
      ]
    },
    {
      "cell_type": "code",
      "source": [
        "# import xxxx as yy 匯入xxxx當作yy\n",
        "# set_printoptions() 設定列印的參數\n",
        "# iloc[] 指定位置元素\n",
        "\n",
        "\n",
        "import numpy as np\n",
        "np.set_printoptions(precision=None, threshold=None, edgeitems=None, linewidth=None, suppress=None, nanstr=None, infstr=None, formatter=None, sign=None, floatmode=None)  # reset print options\n",
        "##threshold\n",
        "# 當要列印的陣列太大時，NumPy會自動以...代替一部分的內容，以減少篇幅！\n",
        "# 但是可以透過全域設定set_printoptions設定threshold(門檻值)，\n",
        "# 元素數量少於或等於門檻值的陣列就會全部列印出來，\n",
        "# 相反地，元素數量高於門檻值，列印時就會省略部分內容。\n",
        "# 陣列大小:20，門檻值20 => 陣列元素數量小於等於門檻值，應列印全部內容\n",
        "# 讓列印出來的資料不斷行，使用lindwidth參數\n",
        "# 讓列印出來的資料不斷列，使用threshold參數\n",
        "\n",
        "# 查看 df 前幾筆資料並且讓列印出來的資料不斷行\n",
        "np.set_printoptions(linewidth=np.inf, threshold=np.inf)\n",
        "#np.set_printoptions(threshold=12, linewidth=30, edgeitems=0)\n",
        "print(df.iloc[0:100,])"
      ],
      "metadata": {
        "colab": {
          "base_uri": "https://localhost:8080/"
        },
        "id": "M3RsvqsdrmkO",
        "outputId": "2523e78b-5da4-4276-cedc-da46e8c404d9"
      },
      "execution_count": 3,
      "outputs": [
        {
          "output_type": "stream",
          "name": "stdout",
          "text": [
            "    學年度  學校代碼      學校名稱 日間∕進修別   等級別    總計   男生計   女生計  一年級男  一年級女  ...  五年級男  \\\n",
            "0   112     1    國立政治大學    D 日  D 博士   921   517   404    86    69  ...    63   \n",
            "1   112     1    國立政治大學    D 日  M 碩士  4231  1835  2396   598   809  ...     2   \n",
            "2   112     1    國立政治大學    N 職  M 碩士  1903   938   965   262   304  ...    77   \n",
            "3   112     1    國立政治大學    D 日  B 學士  9763  3928  5835   906  1349  ...     0   \n",
            "4   112     2    國立清華大學    D 日  D 博士  1636  1131   505   206    93  ...   140   \n",
            "..  ...   ...       ...    ...   ...   ...   ...   ...   ...   ...  ...   ...   \n",
            "95  112    25  國立臺北科技大學    D 日  M 碩士  3558  2535  1023  1060   402  ...     0   \n",
            "96  112    25  國立臺北科技大學    N 職  M 碩士  1604  1110   494   339   172  ...    34   \n",
            "97  112    25  國立臺北科技大學    D 日  B 四技  6371  4444  1927  1079   499  ...     0   \n",
            "98  112    25  國立臺北科技大學    N 修  B 四技  1197   984   213   161    38  ...     0   \n",
            "99  112    25  國立臺北科技大學    D 日  C 二技    22    13     9     0     0  ...     0   \n",
            "\n",
            "    五年級女  六年級男  六年級女  七年級男  七年級女  延修生男  延修生女    縣市名稱   體系別  \n",
            "0     52    68    37    66    50     0     0  30 臺北市  1 一般  \n",
            "1      1     1     0     0     0     0     0  30 臺北市  1 一般  \n",
            "2     57     0     0     0     0     0     0  30 臺北市  1 一般  \n",
            "3      0     0     0     0     0   316   499  30 臺北市  1 一般  \n",
            "4     60   110    50   115    56     0     0  18 新竹市  1 一般  \n",
            "..   ...   ...   ...   ...   ...   ...   ...     ...   ...  \n",
            "95     0     0     0     0     0     0     0  30 臺北市  2 技職  \n",
            "96    15    34    11     2     0     0     0  30 臺北市  2 技職  \n",
            "97     0     0     0     0     0   181    89  30 臺北市  2 技職  \n",
            "98     0     0     0     0     0    54    14  30 臺北市  2 技職  \n",
            "99     0     0     0     0     0     5     2  30 臺北市  2 技職  \n",
            "\n",
            "[100 rows x 26 columns]\n"
          ]
        }
      ]
    },
    {
      "cell_type": "markdown",
      "source": [
        "# 1. 哪間大專院校有最少的碩士生"
      ],
      "metadata": {
        "id": "66NWIJ4Yrxm5"
      }
    },
    {
      "cell_type": "code",
      "source": [
        "# Line6-7說明, df['', ''] 取出想要觀看的欄位，並印出資料集總筆數\n",
        "# Line9-10說明, df1['等級別'] == 'M 碩士' 篩選等級別為\"M 碩士\"的資料，並印出有招生碩士學制的學校數量\n",
        "# Line12-13說明, sort_values(by='總計', ascending=True) 依據總計從小到大排序並印出第一筆結果 (sort_values, by, ascending)\n",
        "\n",
        "\n",
        "df1 = df[['學年度', '學校代碼', '學校名稱', '等級別', '總計', '男生計', '女生計', '縣市名稱']] # 取出想要觀看的欄位\n",
        "print(\"本資料集共有\", len(df1), \"筆紀錄\")\n",
        "\n",
        "df1_1 = df1[df1['等級別'] == 'M 碩士']\n",
        "print(\"有招生碩士學制的學校數量為\", len(df1_1), \"\\n\")\n",
        "\n",
        "df1_1_sorted = df1_1.sort_values(by='總計', ascending=True)\n",
        "print(\"112學年度在籍的碩士生人數最少的學校為\", df1_1_sorted.head(1)[\"學校名稱\"].values)"
      ],
      "metadata": {
        "colab": {
          "base_uri": "https://localhost:8080/"
        },
        "id": "GdEQ4vw1r5kd",
        "outputId": "0eab6e0a-4d90-41f1-f6fe-8d8c1c55582d"
      },
      "execution_count": 4,
      "outputs": [
        {
          "output_type": "stream",
          "name": "stdout",
          "text": [
            "本資料集共有 764 筆紀錄\n",
            "有招生碩士學制的學校數量為 249 \n",
            "\n",
            "112學年度在籍的碩士生人數最少的學校為 ['南亞技術學院']\n"
          ]
        }
      ]
    },
    {
      "cell_type": "markdown",
      "source": [
        "# 2. 哪間大專院校有最多的男生"
      ],
      "metadata": {
        "id": "kAk79D1h4FX3"
      }
    },
    {
      "cell_type": "code",
      "source": [
        "# Line5-6說明, df['', ''] 取出想要觀看的欄位，並印出資料集總筆數\n",
        "# Line8-9說明, sort_values(by='男生計', ascending=False) 依據總計從大到小排序並印出第一筆結果 (sort_values, by, ascending)\n",
        "\n",
        "\n",
        "df2 = df[['學年度', '學校代碼', '學校名稱', '等級別', '總計', '男生計', '女生計', '縣市名稱']] # 取出想要觀看的欄位\n",
        "print(\"本資料集共有\", len(df2), \"筆紀錄\")\n",
        "\n",
        "df2_sorted = df2.sort_values(by='男生計', ascending=False)\n",
        "print(\"112學年度在籍男學生最多的學校為\", df2_sorted.head(1)[\"學校名稱\"].values)"
      ],
      "metadata": {
        "colab": {
          "base_uri": "https://localhost:8080/"
        },
        "id": "CCi-b5Mb4Xab",
        "outputId": "6b44ab1d-ede2-4ff5-c6d8-477d444474df"
      },
      "execution_count": 5,
      "outputs": [
        {
          "output_type": "stream",
          "name": "stdout",
          "text": [
            "本資料集共有 764 筆紀錄\n",
            "112學年度在籍男學生最多的學校為 ['國立高雄科技大學']\n"
          ]
        }
      ]
    },
    {
      "cell_type": "markdown",
      "source": [
        "# 3. 臺北市有幾所國立大專院校? 幾所私立?"
      ],
      "metadata": {
        "id": "_yCiRL2rbaSS"
      }
    },
    {
      "cell_type": "code",
      "source": [
        "# Line8說明，建立空字串\n",
        "# Line10-14說明，使用for in迴圈，配合if else條件，取出國立與私立並放入新的空字串中\n",
        "# Line16說明，df[\"公私立\"] = type_list，目的是在DataFrame尾巴處新增一個欄位\n",
        "# Line18說明，drop_duplicates('學校代碼') 篩選掉重複的學校代碼資料\n",
        "# Line20-21說明，df3['縣市名稱'] == '30 臺北市' 篩選縣市名稱為\"30 臺北市\"的資料，並印出臺北市的學校數量\n",
        "# Line23-24說明，value_counts(公私立) 計算公立與私立學校的筆數，並印出結果\n",
        "\n",
        "type_list = []\n",
        "\n",
        "for i in df['學校名稱']:\n",
        "    if ('國立' in i) or ('市立' in i):\n",
        "        type_list.append('國立')\n",
        "    else:\n",
        "        type_list.append('私立')\n",
        "\n",
        "df['公私立'] = type_list # 將 Dataframe 新增「公私立」column\n",
        "\n",
        "df3 = df.drop_duplicates('學校代碼')\n",
        "\n",
        "df3_1 = df3[df3['縣市名稱'] == '30 臺北市']\n",
        "print(\"台北市大專院校數量為\", len(df3_1), \"\\n\")\n",
        "\n",
        "count = df3_1['公私立'].value_counts()\n",
        "print(f\"台北市有 {len(df3_1)} 所大專院校，其中公立：{count['國立']} 所；私立：{count['私立']} 所。\")"
      ],
      "metadata": {
        "colab": {
          "base_uri": "https://localhost:8080/"
        },
        "id": "WAcz_WX8biMb",
        "outputId": "60abf677-300d-4f73-e7b3-170e18cfb0bc"
      },
      "execution_count": 12,
      "outputs": [
        {
          "output_type": "stream",
          "name": "stdout",
          "text": [
            "台北市大專院校數量為 24 \n",
            "\n",
            "台北市有 24 所大專院校，其中公立：11 所；私立：13 所。\n"
          ]
        }
      ]
    },
    {
      "cell_type": "code",
      "source": [
        "import matplotlib.pyplot as plt\n",
        "\n",
        "labels = ['公立', '私立']\n",
        "sizes = [11, 13]\n",
        "colors = ['#ff9999','#66b3ff']\n",
        "explode = (0.1, 0)  # 將國立部分分離出來\n",
        "\n",
        "# 繪製圓餅圖\n",
        "plt.figure(figsize=(8, 6))\n",
        "plt.pie(sizes, explode=explode, labels=labels, colors=colors, autopct='%1.1f%%', startangle=140)\n",
        "plt.axis('equal')  # 保持圓形\n",
        "plt.title('台北市公私立大專院校比例')\n",
        "plt.show()"
      ],
      "metadata": {
        "colab": {
          "base_uri": "https://localhost:8080/",
          "height": 521
        },
        "id": "52ff2tBqpdO0",
        "outputId": "d2d3fd66-15e1-4873-c147-e40be4233104"
      },
      "execution_count": 27,
      "outputs": [
        {
          "output_type": "display_data",
          "data": {
            "text/plain": [
              "<Figure size 800x600 with 1 Axes>"
            ],
            "image/png": "[encoded data removed]"
          },
          "metadata": {}
        }
      ]
    },
    {
      "cell_type": "markdown",
      "source": [
        "# 4. 各縣市分別有幾所，位於桃園的大專院校總共有幾所"
      ],
      "metadata": {
        "id": "gcRrbqOlskvA"
      }
    },
    {
      "cell_type": "code",
      "source": [
        "# 目的是從一個DataFrame df 中提取縣市稱的資訊，並基於這些資訊進行統計分析和列印。\n",
        "\n",
        "# Line37說明，city_list = []\n",
        "# 創建一個空列表 city_list，用於儲存從 df['縣市名稱'] 中提取的縣市名。\n",
        "\n",
        "# Line39-40說明，for i in df['縣市名稱']: city_list.append(i[3:])：\n",
        "# 這是一個for循環，拜訪DataFrame df 中的每一個縣市名稱。\n",
        "# i[3:] 表示取每個縣市名稱字串的第3個字元到最後一個字元的子字串。這樣做的目的可能是去掉縣市名稱中的前綴（例如縣市編碼）。\n",
        "# 將處理後的縣市名添加到 city_list 中。\n",
        "\n",
        "# Line42說明，df['縣市名'] = city_list\n",
        "# 將處理後的縣市名稱列表 city_list 添加到 DataFrame df 中，建立一個新的列名為 '縣市名'。\n",
        "\n",
        "# Line43說明，df4 = df.drop_duplicates('學校代碼')\n",
        "# 使用 drop_duplicates() 函數根據 '學校代碼' 列刪除重複的行，並將結果儲存在 DataFrame df4 中。確保每個學校代碼僅出現一次。\n",
        "\n",
        "# Line44說明，count = df4['縣市名'].value_counts()\n",
        "# 使用 value_counts() 函數計算 df4['縣市名'] 列中每個唯一值的出現次數，並將結果儲存在 count 中。\n",
        "\n",
        "# Line45說明，city_list = df4['縣市名'].unique()\n",
        "# 使用 unique() 函數獲取 df4['縣市名'] 列中的唯一值，並將結果儲存在 city_list 中。\n",
        "\n",
        "# Line46說明，print(f\"本資料集共收集了 {len(df4)} 學校，其中：\")\n",
        "# 印出一條信息，顯示共收集了多少所學校。\n",
        "\n",
        "# Line48-49說明，for city in city_list: print(f\"{city}有 {count[city]} 所\")\n",
        "# 拜訪 city_list 中的每個縣市名稱，並印出該縣市下的學校數量。count[city] 從 count 中取得對應的學校數。\n",
        "\n",
        "# Line51說明，newtaipei = df4[df4['縣市名'] == '桃園市']：\n",
        "# 建立一個新的DataFrame newtaipei，其中僅包含縣市名為 '桃園市' 的行。\n",
        "\n",
        "# Line53說明，print('\\n',newtaipei['縣市名'].value_counts())：\n",
        "# 印出縣市名為 '桃園市' 的學校數量。這是使用 value_counts() 函數計算新DataFrame newtaipei 中縣市名稱為 '桃園市' 的出現次數。\n",
        "\n",
        "\n",
        "\n",
        "city_list = []\n",
        "\n",
        "for i in df['縣市名稱']:\n",
        "    city_list.append(i[3:])\n",
        "\n",
        "df['縣市名'] = city_list\n",
        "df4 = df.drop_duplicates('學校代碼')\n",
        "count = df4['縣市名'].value_counts()\n",
        "city_list = df4['縣市名'].unique()\n",
        "print(f\"本資料集共收集了 {len(df4)} 學校，其中：\")\n",
        "\n",
        "for city in city_list:\n",
        "    print(f\"{city}有 {count[city]} 所\")\n",
        "\n",
        "taoyuan = df4[df4['縣市名'] == '桃園市']\n",
        "print('\\n') #斷行的用途\n",
        "print(taoyuan['縣市名'].value_counts())"
      ],
      "metadata": {
        "colab": {
          "base_uri": "https://localhost:8080/"
        },
        "id": "V9HcPGaSswr0",
        "outputId": "87750377-1810-482f-adf7-f3c2493ebad9"
      },
      "execution_count": 13,
      "outputs": [
        {
          "output_type": "stream",
          "name": "stdout",
          "text": [
            "本資料集共收集了 145 學校，其中：\n",
            "臺北市有 24 所\n",
            "新竹市有 5 所\n",
            "臺南市有 13 所\n",
            "臺中市有 17 所\n",
            "桃園市有 12 所\n",
            "高雄市有 15 所\n",
            "基隆市有 3 所\n",
            "嘉義縣有 4 所\n",
            "彰化縣有 4 所\n",
            "新北市有 20 所\n",
            "嘉義市有 2 所\n",
            "花蓮縣有 4 所\n",
            "南投縣有 2 所\n",
            "雲林縣有 3 所\n",
            "屏東縣有 5 所\n",
            "臺東縣有 2 所\n",
            "宜蘭縣有 3 所\n",
            "苗栗縣有 3 所\n",
            "澎湖縣有 1 所\n",
            "金門縣有 1 所\n",
            "新竹縣有 2 所\n",
            "\n",
            "\n",
            "縣市名\n",
            "桃園市    12\n",
            "Name: count, dtype: int64\n"
          ]
        }
      ]
    },
    {
      "cell_type": "code",
      "source": [
        "# Colab 進行matplotlib繪圖時顯示繁體中文\n",
        "# 下載台北思源黑體並命名taipei_sans_tc_beta.ttf，移至指定路徑\n",
        "!wget -O TaipeiSansTCBeta-Regular.ttf https://drive.google.com/uc?id=1eGAsTN1HBpJAkeVM57_C7ccp7hbgSz3_&export=download\n",
        "\n",
        "import matplotlib as mpl\n",
        "import matplotlib.pyplot as plt\n",
        "from matplotlib.font_manager import fontManager\n",
        "\n",
        "fontManager.addfont('TaipeiSansTCBeta-Regular.ttf')\n",
        "mpl.rc('font', family='Taipei Sans TC Beta')"
      ],
      "metadata": {
        "colab": {
          "base_uri": "https://localhost:8080/"
        },
        "id": "Xuv-zYexd3Ly",
        "outputId": "cbf5a569-217a-4e59-fcd7-1f04cd869e3a"
      },
      "execution_count": 14,
      "outputs": [
        {
          "output_type": "stream",
          "name": "stdout",
          "text": [
            "--2024-04-08 16:45:38--  https://drive.google.com/uc?id=1eGAsTN1HBpJAkeVM57_C7ccp7hbgSz3_\n",
            "Resolving drive.google.com (drive.google.com)... 142.251.2.138, 142.251.2.139, 142.251.2.100, ...\n",
            "Connecting to drive.google.com (drive.google.com)|142.251.2.138|:443... connected.\n",
            "HTTP request sent, awaiting response... 303 See Other\n",
            "Location: https://drive.usercontent.google.com/download?id=1eGAsTN1HBpJAkeVM57_C7ccp7hbgSz3_ [following]\n",
            "--2024-04-08 16:45:38--  https://drive.usercontent.google.com/download?id=1eGAsTN1HBpJAkeVM57_C7ccp7hbgSz3_\n",
            "Resolving drive.usercontent.google.com (drive.usercontent.google.com)... 142.251.2.132, 2607:f8b0:4023:c0d::84\n",
            "Connecting to drive.usercontent.google.com (drive.usercontent.google.com)|142.251.2.132|:443... connected.\n",
            "HTTP request sent, awaiting response... 200 OK\n",
            "Length: 20659344 (20M) [application/octet-stream]\n",
            "Saving to: ‘TaipeiSansTCBeta-Regular.ttf’\n",
            "\n",
            "TaipeiSansTCBeta-Re 100%[===================>]  19.70M  41.4MB/s    in 0.5s    \n",
            "\n",
            "2024-04-08 16:45:39 (41.4 MB/s) - ‘TaipeiSansTCBeta-Regular.ttf’ saved [20659344/20659344]\n",
            "\n"
          ]
        }
      ]
    },
    {
      "cell_type": "code",
      "source": [
        "# 目的：繪製一個長條圖，顯示各個縣市的學校數量。\n",
        "\n",
        "# Line38說明，plt.figure(figsize=(10, 6))\n",
        "# 創建一個新的圖形，設置尺寸為寬度為10英寸，高度為6英寸。這樣做是為了確保長條圖在輸出時有適當的大小。\n",
        "\n",
        "# Line39說明，bars = plt.bar(count.index, count.values, color='skyblue')\n",
        "# 使用 plt.bar() 函數建立長條圖，其中 count.index 是縣市名稱，count.values 是對應的學校數量。\n",
        "# color='skyblue' 設置長條圖的顏色為天藍色。\n",
        "# 將每個條形的句柄（handler）存儲在 bars 變量中，以便後續設置文字標籤時使用。\n",
        "\n",
        "# Line40說明，plt.xlabel('縣市名稱')\n",
        "# 設置 x 軸的標籤為 '縣市名稱'。\n",
        "\n",
        "# Line41說明，plt.ylabel('學校數量')\n",
        "# 設置 y 軸的標籤為 '學校數量'。\n",
        "\n",
        "# Line42說明，plt.title('各縣市學校數量')\n",
        "# 設置圖表的標題為 '各縣市學校數量'。\n",
        "\n",
        "# Line43說明，plt.xticks(rotation=45)\n",
        "# 設置 x 軸刻度的旋轉角度為45度，以避免刻度標籤相互重疊。\n",
        "\n",
        "# Line45說明，for bar in bars:\n",
        "# 拜訪 bars 中的每個長條形。\n",
        "\n",
        "# Line46說明，height = bar.get_height()\n",
        "# 取得當前長條形的高度（即學校數量）。\n",
        "\n",
        "# Line47說明，plt.text(bar.get_x() + bar.get_width() / 2, height, str(int(height)), ha='center', va='bottom')\n",
        "# 使用 plt.text() 函數在條形上方添加文字標籤。bar.get_x() + bar.get_width() / 2 確定文字的水平位置位於長條形的中央，height 確定文字的垂直位置位於長條形的頂部。\n",
        "# str(int(height)) 將高度轉換為整數並轉換為字元串，以便在圖表上顯示。\n",
        "# ha='center' 和 va='bottom' 分別指定文字的水平對齊方式為中心和垂直對齊方式為底部。\n",
        "\n",
        "# Line48說明，plt.show()\n",
        "# 顯示繪製的圖形。\n",
        "\n",
        "\n",
        "plt.figure(figsize=(10, 6))\n",
        "bars = plt.bar(count.index, count.values, color='skyblue')\n",
        "plt.xlabel('縣市名稱')\n",
        "plt.ylabel('學校數量')\n",
        "plt.title('各縣市學校數量')\n",
        "plt.xticks(rotation=45)\n",
        "\n",
        "for bar in bars:\n",
        "    height = bar.get_height()\n",
        "    plt.text(bar.get_x() + bar.get_width() / 2, height, str(int(height)), ha='center', va='bottom')\n",
        "plt.show()"
      ],
      "metadata": {
        "colab": {
          "base_uri": "https://localhost:8080/",
          "height": 589
        },
        "id": "7FNySGDUdNea",
        "outputId": "0c7ba609-1338-4899-f031-a721d8ddbb79"
      },
      "execution_count": 15,
      "outputs": [
        {
          "output_type": "display_data",
          "data": {
            "text/plain": [
              "<Figure size 1000x600 with 1 Axes>"
            ],
            "image/png": "[encoded data removed]"
          },
          "metadata": {}
        }
      ]
    },
    {
      "cell_type": "markdown",
      "source": [
        "# 5. 在臺灣本島的縣市中，北中南東區分別有？"
      ],
      "metadata": {
        "id": "PsLtbvPdsxQ4"
      }
    },
    {
      "cell_type": "code",
      "source": [
        "# 目的是將學校所在的縣市名對映到相應的區域，然後統計每個區域中學校的數量並列印出來。\n",
        "\n",
        "# Line22-42說明，city_to_area = {...}\n",
        "# 定義了一個名為 city_to_area 的字典，將每個縣市名對映到其所在的區域。例如，'臺北市'、'新北市' 等都被對映到 '北部'，'臺中市'、'彰化縣' 等都被對映到 '中部'。\n",
        "\n",
        "# Line44說明，df['區域'] = df['縣市名'].map(city_to_area)\n",
        "# 使用 map() 函數將 df['縣市名'] 中的每個值對映到 city_to_area 字典中相應的區域，並將結果儲存在新的列 '區域' 中。\n",
        "\n",
        "# Line46說明，df5 = df.drop_duplicates('學校代碼')\n",
        "# 使用 drop_duplicates() 函數根據 '學校代碼' 列刪除重複的行，並將結果儲存在 DataFrame df5 中。確保每個學校代碼僅出現一次。\n",
        "\n",
        "# Line47說明，count = df5['區域'].value_counts()\n",
        "# 使用 value_counts() 函數計算 df5['區域'] 列中每個唯一值的出現次數，並將結果儲存在 count 中。\n",
        "\n",
        "# Line48說明，print(f\"本資料集共收集了 {len(df5)} 所學校，其中：\")\n",
        "# 印出一條信息，顯示共收集了多少所學校。\n",
        "\n",
        "# Line49說明，print(f\"北部區域有 {count['北部']} 所；\\n中部區域有 {count['中部']} 所；\\n南部區域有 {count['南部']} 所；\\n東部區域有 {count['東部']} 所；\\n福建省區域有 {count['福建省']} 所。\")\n",
        "# 使用 f-string 格式化輸出，顯示每個區域的學校數量。count['北部'] 代表北部區域中學校的數量，count['中部'] 代表中部區域中學校的數量，依此類推。\n",
        "\n",
        "\n",
        "city_to_area = {'臺北市':'北部',\n",
        "         '新北市':'北部',\n",
        "         '基隆市':'北部',\n",
        "         '新竹市':'北部',\n",
        "         '桃園市':'北部',\n",
        "         '新竹縣':'北部',\n",
        "         '宜蘭縣':'北部',\n",
        "         '臺中市':'中部',\n",
        "         '苗栗縣':'中部',\n",
        "         '彰化縣':'中部',\n",
        "         '南投縣':'中部',\n",
        "         '雲林縣':'中部',\n",
        "         '高雄市':'南部',\n",
        "         '臺南市':'南部',\n",
        "         '嘉義市':'南部',\n",
        "         '嘉義縣':'南部',\n",
        "         '屏東縣':'南部',\n",
        "         '花蓮縣':'東部',\n",
        "         '臺東縣':'東部',}\n",
        "\n",
        "df['區域'] = df['縣市名'].map(city_to_area)\n",
        "\n",
        "df4 = df.drop_duplicates('學校代碼')\n",
        "count = df4['區域'].value_counts()\n",
        "print(f\"本資料集共收集了 {len(df4)} 所學校，其中：\")\n",
        "print(f\"北部區域有 {count['北部']} 所；\\n中部區域有 {count['中部']} 所；\\n南部區域有 {count['南部']} 所；\\n東部區域有 {count['東部']} 所。\")"
      ],
      "metadata": {
        "colab": {
          "base_uri": "https://localhost:8080/"
        },
        "id": "oxImxJjbs3PJ",
        "outputId": "fdd12088-8eda-45f4-fca6-0ca73ab1abb3"
      },
      "execution_count": 16,
      "outputs": [
        {
          "output_type": "stream",
          "name": "stdout",
          "text": [
            "本資料集共收集了 145 所學校，其中：\n",
            "北部區域有 69 所；\n",
            "中部區域有 29 所；\n",
            "南部區域有 39 所；\n",
            "東部區域有 6 所。\n"
          ]
        }
      ]
    },
    {
      "cell_type": "code",
      "source": [
        "plt.figure(figsize=(10, 6))\n",
        "bars = plt.bar(count.index, count.values, color='pink')\n",
        "plt.xlabel('分區')\n",
        "plt.ylabel('學校數量')\n",
        "plt.title('台灣本島各分區學校數量')\n",
        "plt.xticks(rotation=45)\n",
        "\n",
        "for bar in bars:\n",
        "    height = bar.get_height()\n",
        "    plt.text(bar.get_x() + bar.get_width() / 2, height, str(int(height)), ha='center', va='bottom')\n",
        "plt.show()"
      ],
      "metadata": {
        "colab": {
          "base_uri": "https://localhost:8080/",
          "height": 580
        },
        "id": "l8xXEy9Inpgs",
        "outputId": "8826eff2-1d37-482b-add6-525a342051b0"
      },
      "execution_count": 23,
      "outputs": [
        {
          "output_type": "display_data",
          "data": {
            "text/plain": [
              "<Figure size 1000x600 with 1 Axes>"
            ],
            "image/png": "[encoded data removed]"
          },
          "metadata": {}
        }
      ]
    },
    {
      "cell_type": "markdown",
      "source": [
        "# 6. 臺師大的碩士生中，男女生人數差幾人? 並以圓餅圖繪製出兩者的比例。"
      ],
      "metadata": {
        "id": "4nUdka_NtB-V"
      }
    },
    {
      "cell_type": "code",
      "source": [
        "import pandas as pd\n",
        "\n",
        "# 創建一個範例 DataFrame\n",
        "data = {\n",
        "    '學校名稱': ['國立臺灣師範大學', '國立臺灣師範大學'],\n",
        "    '等級別': ['碩士', '碩士'],\n",
        "    '男生總數': [1878, 680],\n",
        "    '女生總數': [2506, 1592]\n",
        "}\n",
        "df6 = pd.DataFrame(data)\n",
        "\n",
        "# 篩選出碩士生的資料\n",
        "master_students = df6[df6['等級別'] == '碩士']\n",
        "\n",
        "# 使用 groupby 方法將資料按照學校名稱分組，並計算每個分組的男生總數和女生總數\n",
        "grouped = master_students.groupby('學校名稱').sum()\n",
        "\n",
        "# 計算男女生總數的差異\n",
        "grouped['男女生總數差'] = grouped['女生總數'] - grouped['男生總數']\n",
        "\n",
        "# 輸出結果\n",
        "print(grouped)"
      ],
      "metadata": {
        "colab": {
          "base_uri": "https://localhost:8080/"
        },
        "id": "yigs6hh9tDkA",
        "outputId": "67a63666-460b-4283-ba5f-2b0ba68731ba"
      },
      "execution_count": 17,
      "outputs": [
        {
          "output_type": "stream",
          "name": "stdout",
          "text": [
            "           等級別  男生總數  女生總數  男女生總數差\n",
            "學校名稱                              \n",
            "國立臺灣師範大學  碩士碩士  2558  4098    1540\n"
          ]
        }
      ]
    },
    {
      "cell_type": "code",
      "source": [
        "import matplotlib.pyplot as plt\n",
        "\n",
        "labels = ['男生', '女生']\n",
        "sizes = [2558, 4098]\n",
        "colors = ['#ff9999','#66b3ff']\n",
        "explode = (0.1, 0)  # 將男生部分分離出來\n",
        "\n",
        "# 繪製圓餅圖\n",
        "plt.figure(figsize=(8, 6))\n",
        "plt.pie(sizes, explode=explode, labels=labels, colors=colors, autopct='%1.1f%%', startangle=140)\n",
        "plt.axis('equal')  # 保持圓形\n",
        "plt.title('臺師大碩士男女生人數占比')\n",
        "plt.show()"
      ],
      "metadata": {
        "colab": {
          "base_uri": "https://localhost:8080/",
          "height": 521
        },
        "id": "QjMRZ3TJnMoR",
        "outputId": "585a74c2-2324-48b5-f92a-fef13b266aeb"
      },
      "execution_count": 20,
      "outputs": [
        {
          "output_type": "display_data",
          "data": {
            "text/plain": [
              "<Figure size 800x600 with 1 Axes>"
            ],
            "image/png": "[encoded data removed]"
          },
          "metadata": {}
        }
      ]
    }
  ]
}